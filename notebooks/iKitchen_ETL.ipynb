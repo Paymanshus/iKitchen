{
  "nbformat": 4,
  "nbformat_minor": 0,
  "metadata": {
    "colab": {
      "name": "iKitchen_ETL.ipynb",
      "provenance": [],
      "collapsed_sections": [],
      "include_colab_link": true
    },
    "kernelspec": {
      "name": "python3",
      "display_name": "Python 3"
    }
  },
  "cells": [
    {
      "cell_type": "markdown",
      "metadata": {
        "id": "view-in-github",
        "colab_type": "text"
      },
      "source": [
        "<a href=\"https://colab.research.google.com/github/Paymanshus/iKitchen/blob/main/notebooks/iKitchen_ETL.ipynb\" target=\"_parent\"><img src=\"https://colab.research.google.com/assets/colab-badge.svg\" alt=\"Open In Colab\"/></a>"
      ]
    },
    {
      "cell_type": "code",
      "metadata": {
        "id": "PLETdGUqmdf8"
      },
      "source": [
        "!pip install bing-image-downloader"
      ],
      "execution_count": null,
      "outputs": []
    },
    {
      "cell_type": "code",
      "metadata": {
        "id": "BneXq3cNmi7Z"
      },
      "source": [
        "from bing_image_downloader import downloader"
      ],
      "execution_count": null,
      "outputs": []
    },
    {
      "cell_type": "code",
      "metadata": {
        "id": "u0Zq9K8NovYC"
      },
      "source": [
        "!mkdir foodimages\n",
        "!mkdir foodimages/train\n",
        "!mkdir foodimages/test\n",
        "!mkdir foodimages/validation"
      ],
      "execution_count": null,
      "outputs": []
    },
    {
      "cell_type": "code",
      "metadata": {
        "id": "j6QKFXaZowxN"
      },
      "source": [
        "downloader.download('cucumber', limit=100,  output_dir='/foodimages/validation',\n",
        "                    adult_filter_off=True, force_replace=False, timeout=60)\n",
        "\n",
        "downloader.download('carrot', limit=100,  output_dir='/foodimages/validation',\n",
        "                    adult_filter_off=True, force_replace=False, timeout=60)\n",
        "\n",
        "downloader.download('capsicum', limit=100,  output_dir='/foodimages/validation',\n",
        "                    adult_filter_off=True, force_replace=False, timeout=60)\n",
        "\n",
        "downloader.download('onion', limit=100,  output_dir='/foodimages/validation',\n",
        "                    adult_filter_off=True, force_replace=False, timeout=60)\n",
        "\n",
        "downloader.download('potato', limit=100,  output_dir='/foodimages/validation',\n",
        "                    adult_filter_off=True, force_replace=False, timeout=60)\n",
        "\n",
        "downloader.download('lemon', limit=100,  output_dir='/foodimages/validation',\n",
        "                    adult_filter_off=True, force_replace=False, timeout=60)\n",
        "\n",
        "downloader.download('tomato', limit=100,  output_dir='/foodimages/validation',\n",
        "                    adult_filter_off=True, force_replace=False, timeout=60)\n",
        "\n",
        "downloader.download('raddish', limit=100,  output_dir='/foodimages/validation',\n",
        "                    adult_filter_off=True, force_replace=False, timeout=60)\n",
        "\n",
        "downloader.download('beetroot', limit=100,  output_dir='/foodimages/validation',\n",
        "                    adult_filter_off=True, force_replace=False, timeout=60)\n",
        "\n",
        "downloader.download('cabbage', limit=100,  output_dir='/foodimages/validation',\n",
        "                    adult_filter_off=True, force_replace=False, timeout=60)\n",
        "\n",
        "downloader.download('lettuce', limit=100,  output_dir='/foodimages/validation',\n",
        "                    adult_filter_off=True, force_replace=False, timeout=60)\n",
        "\n",
        "downloader.download('spinach', limit=100,  output_dir='/foodimages/validation',\n",
        "                    adult_filter_off=True, force_replace=False, timeout=60)\n",
        "\n",
        "downloader.download('soy beans', limit=100,  output_dir='/foodimages/validation',\n",
        "                    adult_filter_off=True, force_replace=False, timeout=60)\n",
        "\n",
        "downloader.download('cauliflower', limit=100,  output_dir='/foodimages/validation',\n",
        "                    adult_filter_off=True, force_replace=False, timeout=60)\n",
        "\n",
        "downloader.download('bell pepper', limit=100,  output_dir='/foodimages/validation',\n",
        "                    adult_filter_off=True, force_replace=False, timeout=60)\n",
        "\n",
        "downloader.download('chilli pepper', limit=100,  output_dir='/foodimages/validation',\n",
        "                    adult_filter_off=True, force_replace=False, timeout=60)\n",
        "\n",
        "downloader.download('turnip', limit=100,  output_dir='/foodimages/validation',\n",
        "                    adult_filter_off=True, force_replace=False, timeout=60)\n",
        "\n",
        "downloader.download('corn', limit=100,  output_dir='/foodimages/validation',\n",
        "                    adult_filter_off=True, force_replace=False, timeout=60)\n",
        "\n",
        "downloader.download('sweetcorn', limit=100,  output_dir='/foodimages/validation',\n",
        "                    adult_filter_off=True, force_replace=False, timeout=60)\n",
        "\n",
        "downloader.download('sweetpotato', limit=100,  output_dir='/foodimages/validation',\n",
        "                    adult_filter_off=True, force_replace=False, timeout=60)\n",
        "\n",
        "downloader.download('paprika', limit=100,  output_dir='/foodimages/validation',\n",
        "                    adult_filter_off=True, force_replace=False, timeout=60)\n",
        "\n",
        "downloader.download('jalepeno', limit=100,  output_dir='/foodimages/validation',\n",
        "                    adult_filter_off=True, force_replace=False, timeout=60)\n",
        "\n",
        "downloader.download('ginger', limit=100,  output_dir='/foodimages/validation',\n",
        "                    adult_filter_off=True, force_replace=False, timeout=60)\n",
        "\n",
        "downloader.download('garlic', limit=100,  output_dir='/foodimages/validation',\n",
        "                    adult_filter_off=True, force_replace=False, timeout=60)\n",
        "\n",
        "downloader.download('peas', limit=100,  output_dir='/foodimages/validation',\n",
        "                    adult_filter_off=True, force_replace=False, timeout=60)\n",
        "\n",
        "downloader.download('eggplant', limit=100,  output_dir='/foodimages/validation',\n",
        "                    adult_filter_off=True, force_replace=False, timeout=60)\n",
        "\n",
        "downloader.download('banana', limit=100,  output_dir='/foodimages/validation',\n",
        "                    adult_filter_off=True, force_replace=False, timeout=60)\n",
        "\n",
        "downloader.download('apple', limit=100,  output_dir='/foodimages/validation',\n",
        "                    adult_filter_off=True, force_replace=False, timeout=60)\n",
        "\n",
        "downloader.download('pear', limit=100,  output_dir='/foodimages/validation',\n",
        "                    adult_filter_off=True, force_replace=False, timeout=60)\n",
        "\n",
        "downloader.download('grapes', limit=100,  output_dir='/foodimages/validation',\n",
        "                    adult_filter_off=True, force_replace=False, timeout=60)\n",
        "\n",
        "downloader.download('orange', limit=100,  output_dir='/foodimages/validation',\n",
        "                    adult_filter_off=True, force_replace=False, timeout=60)\n",
        "\n",
        "downloader.download('kiwi', limit=100,  output_dir='/foodimages/validation',\n",
        "                    adult_filter_off=True, force_replace=False, timeout=60)\n",
        "\n",
        "downloader.download('watermelon', limit=100,  output_dir='/foodimages/validation',\n",
        "                    adult_filter_off=True, force_replace=False, timeout=60)\n",
        "\n",
        "downloader.download('pomegranate', limit=100,  output_dir='/foodimages/validation',\n",
        "                    adult_filter_off=True, force_replace=False, timeout=60)\n",
        "\n",
        "downloader.download('pineapple', limit=100,  output_dir='/foodimages/validation',\n",
        "                    adult_filter_off=True, force_replace=False, timeout=60)\n",
        "\n",
        "downloader.download('mango', limit=100,  output_dir='/foodimages/validation',\n",
        "                    adult_filter_off=True, force_replace=False, timeout=60)"
      ],
      "execution_count": null,
      "outputs": []
    },
    {
      "cell_type": "code",
      "metadata": {
        "id": "dqA06f-0VVFU"
      },
      "source": [
        "cd /content/foodimages/"
      ],
      "execution_count": null,
      "outputs": []
    },
    {
      "cell_type": "code",
      "metadata": {
        "id": "kjTXYFCAXZLf",
        "outputId": "4bfaf44f-7c6b-419a-ed69-9d382933f9c0",
        "colab": {
          "base_uri": "https://localhost:8080/"
        }
      },
      "source": [
        "# !pip install kaggle\n",
        "# api_token = {'username':'','key':''}\n",
        "# import json\n",
        "# with open('/content/kaggle.json', 'w') as file:\n",
        "#     json.dump(api_token, file)\n",
        "# !mkdir -p ~/.kaggle \n",
        "# !cp kaggle.json ~/.kaggle/\n",
        "# !chmod 600 ~/.kaggle/kaggle.json\n",
        "# !kaggle datasets download -d kritikseth/fruit-and-vegetable-image-recognition\n",
        "# !unzip /content/fruit-and-vegetable-image-recognition.zip -d foodimages"
      ],
      "execution_count": null,
      "outputs": [
        {
          "output_type": "stream",
          "text": [
            "Requirement already satisfied: kaggle in /usr/local/lib/python3.6/dist-packages (1.5.9)\n",
            "Requirement already satisfied: six>=1.10 in /usr/local/lib/python3.6/dist-packages (from kaggle) (1.15.0)\n",
            "Requirement already satisfied: requests in /usr/local/lib/python3.6/dist-packages (from kaggle) (2.23.0)\n",
            "Requirement already satisfied: tqdm in /usr/local/lib/python3.6/dist-packages (from kaggle) (4.41.1)\n",
            "Requirement already satisfied: urllib3 in /usr/local/lib/python3.6/dist-packages (from kaggle) (1.24.3)\n",
            "Requirement already satisfied: python-dateutil in /usr/local/lib/python3.6/dist-packages (from kaggle) (2.8.1)\n",
            "Requirement already satisfied: certifi in /usr/local/lib/python3.6/dist-packages (from kaggle) (2020.6.20)\n",
            "Requirement already satisfied: slugify in /usr/local/lib/python3.6/dist-packages (from kaggle) (0.0.1)\n",
            "Requirement already satisfied: python-slugify in /usr/local/lib/python3.6/dist-packages (from kaggle) (4.0.1)\n",
            "Requirement already satisfied: chardet<4,>=3.0.2 in /usr/local/lib/python3.6/dist-packages (from requests->kaggle) (3.0.4)\n",
            "Requirement already satisfied: idna<3,>=2.5 in /usr/local/lib/python3.6/dist-packages (from requests->kaggle) (2.10)\n",
            "Requirement already satisfied: text-unidecode>=1.3 in /usr/local/lib/python3.6/dist-packages (from python-slugify->kaggle) (1.3)\n"
          ],
          "name": "stdout"
        }
      ]
    },
    {
      "cell_type": "code",
      "metadata": {
        "id": "ir_d59g7X50t",
        "outputId": "93dcb769-05ce-4cb0-b4fc-341125cb9217",
        "colab": {
          "base_uri": "https://localhost:8080/"
        }
      },
      "source": [
        "!kaggle datasets init -p /content/foodimages\n",
        "!kaggle datasets create -p /content/foodimages/ -r tar"
      ],
      "execution_count": null,
      "outputs": [
        {
          "output_type": "stream",
          "text": [
            "Starting upload for file validation.tar\n",
            "Warning: Looks like you're using an outdated API Version, please consider updating (server 1.5.9 / client 1.5.4)\n",
            "100% 236M/236M [00:02<00:00, 100MB/s]\n",
            "Upload successful: validation.tar (236MB)\n",
            "Starting upload for file .ipynb_checkpoints.tar\n",
            "100% 10.0k/10.0k [00:00<00:00, 47.7kB/s]\n",
            "Upload successful: .ipynb_checkpoints.tar (10KB)\n",
            "Starting upload for file train.tar\n",
            "100% 1.78G/1.78G [00:16<00:00, 114MB/s]\n",
            "Upload successful: train.tar (2GB)\n",
            "Starting upload for file test.tar\n",
            "100% 236M/236M [00:02<00:00, 102MB/s]\n",
            "Upload successful: test.tar (236MB)\n",
            "Your private Dataset is being created. Please check progress at https://www.kaggle.com/kritikseth/fruit-and-vegetable-image-recognition\n"
          ],
          "name": "stdout"
        }
      ]
    },
    {
      "cell_type": "markdown",
      "metadata": {
        "id": "nganOS-6rzrj"
      },
      "source": [
        "Removing GIF Images"
      ]
    },
    {
      "cell_type": "code",
      "metadata": {
        "id": "lzKm-pOwzyKc"
      },
      "source": [
        "import os\n",
        "\n",
        "for root, dirs, files in os.walk('/content/foodimages', topdown=False):\n",
        "   for name in files:\n",
        "      if os.path.join(root, name).endswith('.jpg'):\n",
        "          pass\n",
        "      elif os.path.join(root, name).endswith('.JPG'):\n",
        "          pass\n",
        "      elif os.path.join(root, name).endswith('.png'):\n",
        "          pass\n",
        "      elif os.path.join(root, name).endswith('.PNG'):\n",
        "          pass\n",
        "      elif os.path.join(root, name).endswith(''):\n",
        "          pass\n",
        "      else:\n",
        "          os.remove(os.path.join(root, name))\n",
        "   for name in dirs:\n",
        "      if os.path.join(root, name).endswith('.jpg'):\n",
        "          pass\n",
        "      elif os.path.join(root, name).endswith('.JPG'):\n",
        "          pass\n",
        "      elif os.path.join(root, name).endswith('.png'):\n",
        "          pass\n",
        "      elif os.path.join(root, name).endswith('.PNG'):\n",
        "          pass\n",
        "      elif os.path.join(root, name).endswith(''):\n",
        "          pass\n",
        "      else:\n",
        "          os.remove(os.path.join(root, name))"
      ],
      "execution_count": null,
      "outputs": []
    },
    {
      "cell_type": "code",
      "metadata": {
        "id": "I7lGkv6Gzy0t",
        "outputId": "70c7125c-1143-4c37-861c-bda6ef773cc5",
        "colab": {
          "base_uri": "https://localhost:8080/"
        }
      },
      "source": [
        "!kaggle datasets version -p /content/foodimages/ -m 'Remove GIF' -r tar"
      ],
      "execution_count": null,
      "outputs": [
        {
          "output_type": "stream",
          "text": [
            "Starting upload for file validation.tar\n",
            "Warning: Looks like you're using an outdated API Version, please consider updating (server 1.5.9 / client 1.5.4)\n",
            "100% 229M/229M [00:02<00:00, 101MB/s]\n",
            "Upload successful: validation.tar (229MB)\n",
            "Starting upload for file .ipynb_checkpoints.tar\n",
            "100% 10.0k/10.0k [00:00<00:00, 38.7kB/s]\n",
            "Upload successful: .ipynb_checkpoints.tar (10KB)\n",
            "Starting upload for file train.tar\n",
            "100% 1.77G/1.77G [00:22<00:00, 84.1MB/s]\n",
            "Upload successful: train.tar (2GB)\n",
            "Starting upload for file test.tar\n",
            "100% 236M/236M [00:02<00:00, 87.7MB/s]\n",
            "Upload successful: test.tar (236MB)\n",
            "Dataset version is being created. Please check progress at https://www.kaggle.com/kritikseth/fruit-and-vegetable-image-recognition\n"
          ],
          "name": "stdout"
        }
      ]
    }
  ]
}