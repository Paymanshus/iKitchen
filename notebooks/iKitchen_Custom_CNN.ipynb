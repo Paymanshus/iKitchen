{
  "nbformat": 4,
  "nbformat_minor": 0,
  "metadata": {
    "accelerator": "GPU",
    "colab": {
      "name": "iKitchen Custom CNN.ipynb",
      "provenance": [],
      "collapsed_sections": []
    },
    "kernelspec": {
      "display_name": "Python 3",
      "name": "python3"
    }
  },
  "cells": [
    {
      "cell_type": "code",
      "metadata": {
        "id": "fstg0Fav24u6"
      },
      "source": [
        "# !pip install kaggle\n",
        "# api_token = {'username':'','key':''}\n",
        "# import json\n",
        "# with open('/content/kaggle.json', 'w') as file:\n",
        "#     json.dump(api_token, file)\n",
        "# !mkdir -p ~/.kaggle \n",
        "# !cp kaggle.json ~/.kaggle/\n",
        "# !chmod 600 ~/.kaggle/kaggle.json\n",
        "# !kaggle datasets download -d kritikseth/fruit-and-vegetable-image-recognition\n",
        "# !unzip /content/fruit-and-vegetable-image-recognition.zip -d foodimages"
      ],
      "execution_count": null,
      "outputs": []
    },
    {
      "cell_type": "code",
      "metadata": {
        "id": "puAls1J95um-"
      },
      "source": [
        "import os\n",
        "import pandas as pd\n",
        "import numpy as np\n",
        "from keras.preprocessing.image import ImageDataGenerator"
      ],
      "execution_count": null,
      "outputs": []
    },
    {
      "cell_type": "code",
      "metadata": {
        "id": "qox9PJBJ6LoN"
      },
      "source": [
        "base_folder = '/content/foodimages'\n",
        "\n",
        "for root, dirs, files in os.walk(base_folder, topdown=False):\n",
        "   for name in dirs:\n",
        "      categories = os.listdir(os.path.join(root, name))\n",
        "\n",
        "ids = list(range(len(categories)))\n",
        "cat_id = {cat:id for cat, id in zip(categories, ids)}"
      ],
      "execution_count": null,
      "outputs": []
    },
    {
      "cell_type": "code",
      "metadata": {
        "id": "h07f3xEbAzbo"
      },
      "source": [
        "train_path = base_folder + '/train'\n",
        "test_path = base_folder + '/test'\n",
        "valid_path = base_folder + '/validation'\n",
        "\n",
        "train_paths = [train_path+'/'+category for category in categories]\n",
        "test_paths = [test_path+'/'+category for category in categories]\n",
        "valid_paths = [valid_path+'/'+category for category in categories]"
      ],
      "execution_count": null,
      "outputs": []
    },
    {
      "cell_type": "code",
      "metadata": {
        "id": "9frD3ta7E4bJ"
      },
      "source": [
        "paths = []\n",
        "for path in train_paths:\n",
        "    paths.append([path+'/'+p for p in os.listdir(path)])\n",
        "\n",
        "train_all_paths = [item for sublist in paths for item in sublist]\n",
        "\n",
        "paths = []\n",
        "for path in test_paths:\n",
        "    paths.append([path+'/'+p for p in os.listdir(path)])\n",
        "\n",
        "test_all_paths = [item for sublist in paths for item in sublist]\n",
        "\n",
        "paths = []\n",
        "for path in valid_paths:\n",
        "    paths.append([path+'/'+p for p in os.listdir(path)])\n",
        "\n",
        "valid_all_paths = [item for sublist in paths for item in sublist]"
      ],
      "execution_count": null,
      "outputs": []
    },
    {
      "cell_type": "code",
      "metadata": {
        "id": "moBNCmkfFYST"
      },
      "source": [
        "food_train = [filename.split('/')[4] for filename in train_all_paths]\n",
        "food_test = [filename.split('/')[4] for filename in test_all_paths]\n",
        "food_valid = [filename.split('/')[4] for filename in valid_all_paths]"
      ],
      "execution_count": null,
      "outputs": []
    },
    {
      "cell_type": "code",
      "metadata": {
        "id": "xQxrtHSeF8Kk"
      },
      "source": [
        "train = pd.DataFrame({'File': train_all_paths, 'Label': food_train})\n",
        "# train['Label'] = train['Label'].replace(cat_id)\n",
        "train.to_csv('food_train.csv',index=False)\n",
        "\n",
        "test = pd.DataFrame({'File': test_all_paths, 'Label': food_test})\n",
        "# test['Label'] = test['Label'].replace(cat_id)\n",
        "test.to_csv('food_test.csv',index=False)\n",
        "\n",
        "valid = pd.DataFrame({'File': valid_all_paths, 'Label': food_valid})\n",
        "# valid['Label'] = valid['Label'].replace(cat_id)\n",
        "valid.to_csv('food_valid.csv',index=False)"
      ],
      "execution_count": null,
      "outputs": []
    },
    {
      "cell_type": "code",
      "metadata": {
        "id": "Gf9FHOPs353Q"
      },
      "source": [
        "train_datagen = ImageDataGenerator(rescale=1/255.0,\n",
        "                                   rotation_range=10,\n",
        "                                   zoom_range=0.1,\n",
        "                                   width_shift_range=0.1,\n",
        "                                   height_shift_range=0.1,\n",
        "                                   shear_range=0.1,\n",
        "                                   horizontal_flip=True,\n",
        "                                   fill_mode='nearest',\n",
        "                                   validation_split=None)\n",
        "\n",
        "valid_datagen = ImageDataGenerator(rescale=1/255.0,\n",
        "                                   rotation_range=20,\n",
        "                                   zoom_range=0.2,\n",
        "                                   width_shift_range=0.2,\n",
        "                                   height_shift_range=0.2,\n",
        "                                   shear_range=0.2,\n",
        "                                   horizontal_flip=True,\n",
        "                                   fill_mode='nearest',\n",
        "                                   validation_split=None)\n",
        "\n",
        "test_datagen = ImageDataGenerator(rescale=1/255.0)"
      ],
      "execution_count": null,
      "outputs": []
    },
    {
      "cell_type": "code",
      "metadata": {
        "id": "qThAUSr-5n65",
        "outputId": "d684e2e1-5df2-4482-c279-c2c02e09b645",
        "colab": {
          "base_uri": "https://localhost:8080/"
        }
      },
      "source": [
        "batch_size = 20\n",
        "img_rows, img_cols = (100, 100)\n",
        "input_shape = (img_rows, img_cols, 3)\n",
        "dir = ''\n",
        "\n",
        "\n",
        "train_aug = train_datagen.flow_from_dataframe(dataframe=train,\n",
        "                                              directory=dir,\n",
        "                                              x_col='File',\n",
        "                                              y_col='Label',\n",
        "                                              batch_size=batch_size,\n",
        "                                              target_size=(img_rows, img_cols),\n",
        "                                              class_mode='categorical',\n",
        "                                              shuffle=True,\n",
        "                                              color_mode='rgb',\n",
        "                                              seed=123)\n",
        "\n",
        "valid_aug = valid_datagen.flow_from_dataframe(dataframe=valid,\n",
        "                                              directory=dir,\n",
        "                                              x_col='File',\n",
        "                                              y_col='Label',\n",
        "                                              batch_size=batch_size,\n",
        "                                              target_size=(img_rows, img_cols),\n",
        "                                              class_mode='categorical',\n",
        "                                              shuffle=True,\n",
        "                                              color_mode='rgb',\n",
        "                                              seed=123)\n",
        "\n",
        "test_aug = test_datagen.flow_from_dataframe(dataframe=test,\n",
        "                                            directory=dir,\n",
        "                                            x_col='File',\n",
        "                                            y_col='Label',\n",
        "                                            batch_size=batch_size,\n",
        "                                            target_size=(img_rows, img_cols),\n",
        "                                            class_mode='categorical',\n",
        "                                            shuffle=False,\n",
        "                                            color_mode='rgb')"
      ],
      "execution_count": null,
      "outputs": [
        {
          "output_type": "stream",
          "text": [
            "Found 3581 validated image filenames belonging to 36 classes.\n",
            "Found 351 validated image filenames belonging to 36 classes.\n",
            "Found 359 validated image filenames belonging to 36 classes.\n"
          ],
          "name": "stdout"
        }
      ]
    },
    {
      "cell_type": "code",
      "metadata": {
        "id": "NfQokwESCwaa"
      },
      "source": [
        "import keras\n",
        "from keras.models import Sequential\n",
        "from keras.layers import Dense, Flatten, Conv2D, MaxPooling2D\n",
        "from keras.optimizers import SGD\n",
        "from keras.callbacks import ModelCheckpoint, EarlyStopping, ReduceLROnPlateau"
      ],
      "execution_count": null,
      "outputs": []
    },
    {
      "cell_type": "code",
      "metadata": {
        "id": "3r6LsPCVLoSy",
        "outputId": "27e0cc37-7cea-4788-eb33-83340061f915",
        "colab": {
          "base_uri": "https://localhost:8080/"
        }
      },
      "source": [
        "model = Sequential()\n",
        "\n",
        "model.add(Conv2D(256, (3, 3), activation='relu', input_shape=input_shape))\n",
        "model.add(MaxPooling2D((2, 2)))\n",
        "model.add(Conv2D(256, (3, 3), activation='relu'))\n",
        "model.add(MaxPooling2D((2, 2)))\n",
        "model.add(Conv2D(128, (3, 3), activation='relu'))\n",
        "\n",
        "\n",
        "model.add(Flatten())\n",
        "model.add(Dense(units=512, activation='relu'))\n",
        "model.add(Dense(units=36, activation='softmax'))\n",
        "\n",
        "model.summary()"
      ],
      "execution_count": null,
      "outputs": [
        {
          "output_type": "stream",
          "text": [
            "Model: \"sequential_1\"\n",
            "_________________________________________________________________\n",
            "Layer (type)                 Output Shape              Param #   \n",
            "=================================================================\n",
            "conv2d_3 (Conv2D)            (None, 98, 98, 256)       7168      \n",
            "_________________________________________________________________\n",
            "max_pooling2d_2 (MaxPooling2 (None, 49, 49, 256)       0         \n",
            "_________________________________________________________________\n",
            "conv2d_4 (Conv2D)            (None, 47, 47, 256)       590080    \n",
            "_________________________________________________________________\n",
            "max_pooling2d_3 (MaxPooling2 (None, 23, 23, 256)       0         \n",
            "_________________________________________________________________\n",
            "conv2d_5 (Conv2D)            (None, 21, 21, 128)       295040    \n",
            "_________________________________________________________________\n",
            "flatten_1 (Flatten)          (None, 56448)             0         \n",
            "_________________________________________________________________\n",
            "dense_2 (Dense)              (None, 512)               28901888  \n",
            "_________________________________________________________________\n",
            "dense_3 (Dense)              (None, 36)                18468     \n",
            "=================================================================\n",
            "Total params: 29,812,644\n",
            "Trainable params: 29,812,644\n",
            "Non-trainable params: 0\n",
            "_________________________________________________________________\n"
          ],
          "name": "stdout"
        }
      ]
    },
    {
      "cell_type": "code",
      "metadata": {
        "id": "BB832TPYL0mz"
      },
      "source": [
        "model.compile(loss='categorical_crossentropy', optimizer='sgd', metrics=['accuracy'])"
      ],
      "execution_count": null,
      "outputs": []
    },
    {
      "cell_type": "code",
      "metadata": {
        "id": "mhvvUrxRRQEH"
      },
      "source": [
        "from tensorgram import TensorGram\n",
        "tf = TensorGram('model','805308003')"
      ],
      "execution_count": null,
      "outputs": []
    },
    {
      "cell_type": "code",
      "metadata": {
        "id": "s528JbTVL6ST",
        "outputId": "00d82dad-c9fe-42a6-9544-2babc454a9e0",
        "colab": {
          "base_uri": "https://localhost:8080/",
          "height": 1000
        }
      },
      "source": [
        "history = model.fit(train_aug, validation_data=valid_aug, epochs=40)"
      ],
      "execution_count": null,
      "outputs": [
        {
          "output_type": "stream",
          "text": [
            "Epoch 1/40\n",
            "  4/180 [..............................] - ETA: 1:45 - loss: 3.4947 - accuracy: 0.0625"
          ],
          "name": "stdout"
        },
        {
          "output_type": "stream",
          "text": [
            "/usr/local/lib/python3.6/dist-packages/PIL/Image.py:932: UserWarning: Palette images with Transparency expressed in bytes should be converted to RGBA images\n",
            "  \"Palette images with Transparency expressed in bytes should be \"\n"
          ],
          "name": "stderr"
        },
        {
          "output_type": "stream",
          "text": [
            " 37/180 [=====>........................] - ETA: 1:42 - loss: 3.4341 - accuracy: 0.0770"
          ],
          "name": "stdout"
        },
        {
          "output_type": "stream",
          "text": [
            "/usr/local/lib/python3.6/dist-packages/PIL/TiffImagePlugin.py:788: UserWarning: Corrupt EXIF data.  Expecting to read 4 bytes but only got 0. \n",
            "  warnings.warn(str(msg))\n"
          ],
          "name": "stderr"
        },
        {
          "output_type": "stream",
          "text": [
            "180/180 [==============================] - 160s 887ms/step - loss: 3.2562 - accuracy: 0.1053 - val_loss: 2.8987 - val_accuracy: 0.1795\n",
            "Epoch 2/40\n",
            "180/180 [==============================] - 161s 894ms/step - loss: 2.9294 - accuracy: 0.1648 - val_loss: 2.7295 - val_accuracy: 0.1909\n",
            "Epoch 3/40\n",
            "180/180 [==============================] - 162s 903ms/step - loss: 2.6947 - accuracy: 0.2198 - val_loss: 2.4255 - val_accuracy: 0.2507\n",
            "Epoch 4/40\n",
            "180/180 [==============================] - 163s 908ms/step - loss: 2.6232 - accuracy: 0.2424 - val_loss: 2.7467 - val_accuracy: 0.2536\n",
            "Epoch 5/40\n",
            "180/180 [==============================] - 161s 894ms/step - loss: 2.5107 - accuracy: 0.2642 - val_loss: 2.2880 - val_accuracy: 0.3333\n",
            "Epoch 6/40\n",
            "180/180 [==============================] - 165s 915ms/step - loss: 2.4191 - accuracy: 0.2843 - val_loss: 2.1148 - val_accuracy: 0.3789\n",
            "Epoch 7/40\n",
            "180/180 [==============================] - 164s 913ms/step - loss: 2.3209 - accuracy: 0.3111 - val_loss: 1.9708 - val_accuracy: 0.3875\n",
            "Epoch 8/40\n",
            "180/180 [==============================] - 165s 914ms/step - loss: 2.2710 - accuracy: 0.3211 - val_loss: 1.9130 - val_accuracy: 0.4017\n",
            "Epoch 9/40\n",
            "180/180 [==============================] - 164s 911ms/step - loss: 2.2128 - accuracy: 0.3373 - val_loss: 1.8350 - val_accuracy: 0.4160\n",
            "Epoch 10/40\n",
            "180/180 [==============================] - 166s 921ms/step - loss: 2.1806 - accuracy: 0.3566 - val_loss: 1.8460 - val_accuracy: 0.4501\n",
            "Epoch 11/40\n",
            "180/180 [==============================] - 164s 913ms/step - loss: 2.1522 - accuracy: 0.3611 - val_loss: 1.8841 - val_accuracy: 0.4017\n",
            "Epoch 12/40\n",
            "180/180 [==============================] - 162s 901ms/step - loss: 2.0834 - accuracy: 0.3829 - val_loss: 2.0468 - val_accuracy: 0.3504\n",
            "Epoch 13/40\n",
            "180/180 [==============================] - 160s 889ms/step - loss: 2.0251 - accuracy: 0.3923 - val_loss: 1.8163 - val_accuracy: 0.4330\n",
            "Epoch 14/40\n",
            "180/180 [==============================] - 160s 887ms/step - loss: 1.9862 - accuracy: 0.3946 - val_loss: 1.7664 - val_accuracy: 0.4473\n",
            "Epoch 15/40\n",
            "180/180 [==============================] - 162s 900ms/step - loss: 1.9503 - accuracy: 0.4069 - val_loss: 1.6353 - val_accuracy: 0.4558\n",
            "Epoch 16/40\n",
            "180/180 [==============================] - 164s 909ms/step - loss: 1.9265 - accuracy: 0.4152 - val_loss: 1.6069 - val_accuracy: 0.4900\n",
            "Epoch 17/40\n",
            "180/180 [==============================] - 165s 918ms/step - loss: 1.8507 - accuracy: 0.4348 - val_loss: 1.6378 - val_accuracy: 0.4957\n",
            "Epoch 18/40\n",
            "180/180 [==============================] - 163s 908ms/step - loss: 1.8251 - accuracy: 0.4354 - val_loss: 1.9357 - val_accuracy: 0.4046\n",
            "Epoch 19/40\n",
            "180/180 [==============================] - 163s 905ms/step - loss: 1.8117 - accuracy: 0.4513 - val_loss: 1.5666 - val_accuracy: 0.5157\n",
            "Epoch 20/40\n",
            "180/180 [==============================] - 163s 905ms/step - loss: 1.7595 - accuracy: 0.4616 - val_loss: 1.5442 - val_accuracy: 0.4900\n",
            "Epoch 21/40\n",
            "180/180 [==============================] - 164s 911ms/step - loss: 1.6939 - accuracy: 0.4820 - val_loss: 1.5038 - val_accuracy: 0.5328\n",
            "Epoch 22/40\n",
            "180/180 [==============================] - 163s 907ms/step - loss: 1.6689 - accuracy: 0.4823 - val_loss: 1.3165 - val_accuracy: 0.5869\n",
            "Epoch 23/40\n",
            "180/180 [==============================] - 163s 907ms/step - loss: 1.6306 - accuracy: 0.4943 - val_loss: 1.4768 - val_accuracy: 0.5556\n",
            "Epoch 24/40\n",
            "180/180 [==============================] - 161s 895ms/step - loss: 1.6260 - accuracy: 0.4960 - val_loss: 1.3613 - val_accuracy: 0.5755\n",
            "Epoch 25/40\n",
            "180/180 [==============================] - 165s 918ms/step - loss: 1.5598 - accuracy: 0.5309 - val_loss: 1.3632 - val_accuracy: 0.5812\n",
            "Epoch 26/40\n",
            "180/180 [==============================] - 165s 916ms/step - loss: 1.5386 - accuracy: 0.5242 - val_loss: 1.4498 - val_accuracy: 0.5385\n",
            "Epoch 27/40\n",
            "180/180 [==============================] - 164s 912ms/step - loss: 1.4549 - accuracy: 0.5538 - val_loss: 1.3929 - val_accuracy: 0.5584\n",
            "Epoch 28/40\n",
            "180/180 [==============================] - 162s 901ms/step - loss: 1.4697 - accuracy: 0.5507 - val_loss: 1.4755 - val_accuracy: 0.5670\n",
            "Epoch 29/40\n",
            "180/180 [==============================] - 164s 909ms/step - loss: 1.5128 - accuracy: 0.5490 - val_loss: 1.3238 - val_accuracy: 0.5613\n",
            "Epoch 30/40\n",
            "180/180 [==============================] - 164s 913ms/step - loss: 1.3468 - accuracy: 0.5772 - val_loss: 1.2367 - val_accuracy: 0.6211\n",
            "Epoch 31/40\n",
            "180/180 [==============================] - 165s 915ms/step - loss: 1.2859 - accuracy: 0.6032 - val_loss: 1.3613 - val_accuracy: 0.5726\n",
            "Epoch 32/40\n",
            "180/180 [==============================] - 164s 912ms/step - loss: 1.2938 - accuracy: 0.6015 - val_loss: 1.2556 - val_accuracy: 0.6325\n",
            "Epoch 33/40\n",
            "180/180 [==============================] - 164s 911ms/step - loss: 1.2384 - accuracy: 0.6032 - val_loss: 1.2312 - val_accuracy: 0.5954\n",
            "Epoch 34/40\n",
            "180/180 [==============================] - 162s 900ms/step - loss: 1.1482 - accuracy: 0.6409 - val_loss: 1.3711 - val_accuracy: 0.5926\n",
            "Epoch 35/40\n",
            "180/180 [==============================] - 163s 907ms/step - loss: 1.1209 - accuracy: 0.6389 - val_loss: 1.3877 - val_accuracy: 0.6040\n",
            "Epoch 36/40\n",
            "180/180 [==============================] - 165s 915ms/step - loss: 1.1142 - accuracy: 0.6596 - val_loss: 1.2126 - val_accuracy: 0.6011\n",
            "Epoch 37/40\n",
            "180/180 [==============================] - 166s 924ms/step - loss: 1.0108 - accuracy: 0.6744 - val_loss: 1.2581 - val_accuracy: 0.6439\n",
            "Epoch 38/40\n",
            "180/180 [==============================] - 164s 911ms/step - loss: 1.1027 - accuracy: 0.6652 - val_loss: 1.1596 - val_accuracy: 0.6439\n",
            "Epoch 39/40\n",
            "180/180 [==============================] - 164s 910ms/step - loss: 1.0489 - accuracy: 0.6772 - val_loss: 1.1539 - val_accuracy: 0.6296\n",
            "Epoch 40/40\n",
            "180/180 [==============================] - 163s 903ms/step - loss: 0.9694 - accuracy: 0.6925 - val_loss: 1.1972 - val_accuracy: 0.6524\n"
          ],
          "name": "stdout"
        },
        {
          "output_type": "display_data",
          "data": {
            "image/png": "[encoded data removed]",
            "text/plain": [
              "<Figure size 432x288 with 1 Axes>"
            ]
          },
          "metadata": {
            "tags": [],
            "needs_background": "light"
          }
        },
        {
          "output_type": "display_data",
          "data": {
            "image/png": "[encoded data removed]",
            "text/plain": [
              "<Figure size 432x288 with 1 Axes>"
            ]
          },
          "metadata": {
            "tags": [],
            "needs_background": "light"
          }
        },
        {
          "output_type": "display_data",
          "data": {
            "image/png": "[encoded data removed]",
            "text/plain": [
              "<Figure size 432x288 with 1 Axes>"
            ]
          },
          "metadata": {
            "tags": [],
            "needs_background": "light"
          }
        },
        {
          "output_type": "display_data",
          "data": {
            "image/png": "[encoded data removed]",
            "text/plain": [
              "<Figure size 432x288 with 1 Axes>"
            ]
          },
          "metadata": {
            "tags": [],
            "needs_background": "light"
          }
        }
      ]
    },
    {
      "cell_type": "code",
      "metadata": {
        "id": "Vn5bdP5oRpxr"
      },
      "source": [
        "model.save('model.hdf5')"
      ],
      "execution_count": null,
      "outputs": []
    }
  ]
}